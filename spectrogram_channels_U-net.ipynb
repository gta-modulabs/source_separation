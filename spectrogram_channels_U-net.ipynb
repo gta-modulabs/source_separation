{
 "cells": [
  {
   "cell_type": "markdown",
   "metadata": {},
   "source": [
    "# Spectrogram Channels U-net\n",
    "\n",
    "* Spectrogram-Channels U-Net: A Source Separation Model Viewing Each Channel as the Spectrogram of Each Source, [arXiv:1810.11520](https://arxiv.org/abs/1810.11520)\n",
    "  * Jaehoon Oh∗, Duyeon Kim∗, Se-Young Yun\n",
    "  \n",
    "* Implemented by `TensorFlow v2.0`"
   ]
  },
  {
   "cell_type": "markdown",
   "metadata": {},
   "source": [
    "## Import modules"
   ]
  },
  {
   "cell_type": "code",
   "execution_count": null,
   "metadata": {},
   "outputs": [],
   "source": [
    "from __future__ import absolute_import\n",
    "from __future__ import division\n",
    "from __future__ import print_function\n",
    "\n",
    "import os\n",
    "import sys\n",
    "import time\n",
    "import glob\n",
    "\n",
    "import collections\n",
    "\n",
    "import numpy as np\n",
    "import matplotlib.pyplot as plt\n",
    "%matplotlib inline\n",
    "\n",
    "import librosa\n",
    "import librosa.display\n",
    "\n",
    "from IPython import display\n",
    "\n",
    "import tensorflow as tf\n",
    "from tensorflow.keras import layers\n",
    "\n",
    "tf.enable_eager_execution()\n",
    "\n",
    "os.environ[\"CUDA_VISIBLE_DEVICES\"]=\"0\""
   ]
  },
  {
   "cell_type": "code",
   "execution_count": null,
   "metadata": {},
   "outputs": [],
   "source": [
    "# Training Flags (hyperparameter configuration)\n",
    "model_name = 'spectrogram_channels_unet'\n",
    "train_dir = 'train/' + model_name + '/exp1/'\n",
    "max_epochs = 20\n",
    "save_model_epochs = 20\n",
    "print_steps = 1\n",
    "batch_size = 8\n",
    "learning_rate = 1e-3\n",
    "# Total number of samples in train_dataset\n",
    "N = 4525 # N_test = 2469 for test_dataset\n",
    "\n",
    "BUFFER_SIZE = N"
   ]
  },
  {
   "cell_type": "markdown",
   "metadata": {},
   "source": [
    "## Set up dataset with `tf.data`"
   ]
  },
  {
   "cell_type": "code",
   "execution_count": null,
   "metadata": {},
   "outputs": [],
   "source": [
    "data_path = './datasets/tfrecords/'\n",
    "train_data_filenames = [os.path.join(data_path, 'train', name)\n",
    "                        for name in os.listdir(os.path.join(data_path, 'train')) if 'tfrecord' in name]\n",
    "for name in train_data_filenames:\n",
    "  print(name)\n",
    "print('--------')\n",
    "  \n",
    "test_data_filenames = [os.path.join(data_path, 'test', name)\n",
    "                       for name in os.listdir(os.path.join(data_path, 'test')) if 'tfrecord' in name]\n",
    "for name in test_data_filenames:\n",
    "  print(name)"
   ]
  },
  {
   "cell_type": "code",
   "execution_count": null,
   "metadata": {},
   "outputs": [],
   "source": [
    "# Transforms a scalar string `example_proto` into a pair of a scalar string and\n",
    "# a scalar integer, representing an spectragram and corresponding informations, respectively.\n",
    "def _parse_function(example_proto):\n",
    "  features = {'wav_concat': tf.io.FixedLenFeature([], tf.string, default_value=\"\"),\n",
    "              'time_step': tf.io.FixedLenFeature([], tf.int64, default_value=0),\n",
    "              'track_number': tf.io.FixedLenFeature([], tf.int64, default_value=0),\n",
    "              'split_number': tf.io.FixedLenFeature([], tf.int64, default_value=0),}\n",
    "  \n",
    "  parsed_features = tf.io.parse_single_example(example_proto, features)\n",
    "\n",
    "  wav_concat = tf.io.decode_raw(parsed_features[\"wav_concat\"], out_type=tf.float32)\n",
    "  time_step = tf.cast(parsed_features[\"time_step\"], dtype=tf.int32)\n",
    "  #track_number = tf.cast(parsed_features[\"track_number\"], dtype=tf.int32)\n",
    "  #split_number = tf.cast(parsed_features[\"split_number\"], dtype=tf.int32)\n",
    "  \n",
    "  num_sources = 6 # for [mixtures, vocals, drums, basses, others, accompaniments]\n",
    "  num_channels = 2 # for left, right\n",
    "  wav_concat = tf.reshape(wav_concat, shape=[num_sources, num_channels, time_step])\n",
    "\n",
    "  return wav_concat, time_step"
   ]
  },
  {
   "cell_type": "code",
   "execution_count": null,
   "metadata": {},
   "outputs": [],
   "source": [
    "def _augmentation_function(wav_concat, time_step):\n",
    "  \"\"\"Random cropping for data augmentation\n",
    "  We set that the input (spectrogram) shape is (num_frames, frequency_bin) = (128, 1024).\n",
    "  Number of samples to needed: 128 x 512 (hop_size) = 131072\n",
    "  Time of wave to needed: 131072 / 44100 = 2.97 sec\n",
    "  \"\"\"\n",
    "  target_time_step = 131072\n",
    "  available_time_step = time_step - target_time_step\n",
    "  \n",
    "  crop_index = tf.random.uniform(shape=[]) * tf.cast(available_time_step, dtype=tf.float32)\n",
    "  crop_index = tf.cast(crop_index, dtype=tf.int32)\n",
    "  wav_concat_crop = wav_concat[:, :, crop_index:crop_index+target_time_step]\n",
    "  \n",
    "  return wav_concat_crop"
   ]
  },
  {
   "cell_type": "code",
   "execution_count": null,
   "metadata": {},
   "outputs": [],
   "source": [
    "def _stft(wav, sources_to_wanted):\n",
    "  \"\"\"Short time Fourier Transform\n",
    "  \n",
    "  Args:\n",
    "    wav: Tens\n",
    "    sources_to_wanted: list of name of sources to wanted\n",
    "        - full source names: ['vocals', 'drums', 'basses', 'others', 'accompaniments']\n",
    "        \n",
    "  Returns:\n",
    "    stft: The results of stft of input wav\n",
    "  \"\"\"\n",
    "  num = collections.OrderedDict()\n",
    "  num['vocals'] = 1\n",
    "  num['drums'] = 2\n",
    "  num['basses'] = 3\n",
    "  num['others'] = 4\n",
    "  num['accompaniments'] = 5\n",
    "  \n",
    "  wav_to_wanted = collections.OrderedDict()\n",
    "  wav_to_wanted['mixtures'] = wav[0]\n",
    "  for key, value in num.items():\n",
    "    if key in sources_to_wanted:\n",
    "      wav_to_wanted[key] = wav[value]  \n",
    "      \n",
    "  stfts_db = []\n",
    "  for key, wav in wav_to_wanted.items():\n",
    "    stft = tf.contrib.signal.stft(wav,\n",
    "                          frame_length=2048,\n",
    "                          frame_step=512,\n",
    "                          fft_length=2048,\n",
    "                          pad_end=True)[..., :1024]\n",
    "    \n",
    "    # [num_channels, num_frames, frequency_bin]\n",
    "    # -> [num_frames, frequency_bin, num_channels]\n",
    "    stft = tf.transpose(stft, perm=[1, 2, 0])\n",
    "\n",
    "    def _amp_to_db(x):\n",
    "      log_offset = 1e-6\n",
    "      return 20 * tf.math.log(x + log_offset) / tf.math.log(10.0) # natural logarithm -> logarithm based on 10\n",
    "    # for our suggestion\n",
    "    min_level_db = -110\n",
    "    ref_level_db = 40\n",
    "    stft_db = _amp_to_db(tf.math.abs(stft)) - ref_level_db\n",
    "    stfts_db.append(stft_db)\n",
    "\n",
    "  return stfts_db[0], tf.concat(stfts_db[1:], axis=-1)"
   ]
  },
  {
   "cell_type": "code",
   "execution_count": null,
   "metadata": {},
   "outputs": [],
   "source": [
    "def _stft_for_test(wav, sources_to_wanted):\n",
    "  \"\"\"Short time Fourier Transform\n",
    "  \n",
    "  Args:\n",
    "    wav: Tens\n",
    "    sources_to_wanted: list of name of sources to wanted\n",
    "        - full source names: ['vocals', 'drums', 'basses', 'others', 'accompaniments']\n",
    "        \n",
    "  Returns:\n",
    "    mixture_stft: The real part of stft of input wav\n",
    "    targets_stft: The real part of stft of target (each source) wav\n",
    "    targets_stft_imag: The imaginary part of stft of target (each source) wav\n",
    "  \"\"\"\n",
    "  num = collections.OrderedDict()\n",
    "  num['vocals'] = 1\n",
    "  num['drums'] = 2\n",
    "  num['basses'] = 3\n",
    "  num['others'] = 4\n",
    "  num['accompaniments'] = 5\n",
    "  \n",
    "  wav_to_wanted = collections.OrderedDict()\n",
    "  wav_to_wanted['mixtures'] = wav[0]\n",
    "  for key, value in num.items():\n",
    "    if key in sources_to_wanted:\n",
    "      wav_to_wanted[key] = wav[value]  \n",
    "      \n",
    "  stfts_db = []\n",
    "  stfts_angle = []\n",
    "  for key, wav in wav_to_wanted.items():\n",
    "    stft = tf.contrib.signal.stft(wav,\n",
    "                          frame_length=2048,\n",
    "                          frame_step=512,\n",
    "                          fft_length=2048,\n",
    "                          pad_end=True)[..., :1024]\n",
    "    \n",
    "    # [num_channels, num_frames, frequency_bin]\n",
    "    # -> [num_frames, frequency_bin, num_channels]\n",
    "    stft = tf.transpose(stft, perm=[1, 2, 0])\n",
    "    \n",
    "    # separate real part and imaginary part\n",
    "    stft_angle = tf.math.angle(stft)\n",
    "    stfts_angle.append(stft_angle)\n",
    "    \n",
    "    def _amp_to_db(x):\n",
    "      log_offset = 1e-6\n",
    "      return 20 * tf.math.log(x + log_offset) / tf.math.log(10.0) # natural logarithm -> logarithm based on 10\n",
    "    # for our suggestion\n",
    "    min_level_db = -110\n",
    "    ref_level_db = 40\n",
    "    stft_db = _amp_to_db(tf.math.abs(stft)) - ref_level_db\n",
    "    stfts_db.append(stft_db)\n",
    "\n",
    "  return stfts_db[0], tf.concat(stfts_db[1:], axis=-1), tf.concat(stfts_angle[1:], axis=-1)"
   ]
  },
  {
   "cell_type": "code",
   "execution_count": null,
   "metadata": {},
   "outputs": [],
   "source": [
    "train_dataset = tf.data.TFRecordDataset(train_data_filenames)\n",
    "train_dataset = train_dataset.map(_parse_function)\n",
    "train_dataset = train_dataset.map(_augmentation_function)\n",
    "extracted_sources_list = ['vocals', 'accompaniments']\n",
    "train_dataset = train_dataset.map(lambda x: _stft(x, extracted_sources_list))\n",
    "train_dataset = train_dataset.shuffle(BUFFER_SIZE)\n",
    "train_dataset = train_dataset.batch(batch_size)"
   ]
  },
  {
   "cell_type": "code",
   "execution_count": null,
   "metadata": {},
   "outputs": [],
   "source": [
    "# To test for batch\n",
    "for mixtures, targets in train_dataset.take(3):\n",
    "  start_time = time.time()\n",
    "  print(mixtures.shape)\n",
    "  print(targets.shape)\n",
    "  print(\"duration: {} sec\".format(time.time() - start_time))"
   ]
  },
  {
   "cell_type": "markdown",
   "metadata": {},
   "source": [
    "### Plot for spectrogram of mixtures"
   ]
  },
  {
   "cell_type": "code",
   "execution_count": null,
   "metadata": {},
   "outputs": [],
   "source": [
    "plt.figure(figsize=(16, 4))\n",
    "librosa.display.specshow(mixtures[0, :, :, 0].numpy().T)\n",
    "plt.colorbar()\n",
    "plt.show()"
   ]
  },
  {
   "cell_type": "code",
   "execution_count": null,
   "metadata": {},
   "outputs": [],
   "source": [
    "test_dataset = tf.data.TFRecordDataset(test_data_filenames)\n",
    "test_dataset = test_dataset.map(_parse_function)\n",
    "test_dataset = test_dataset.map(_augmentation_function)\n",
    "extracted_sources_list = ['vocals', 'accompaniments']\n",
    "test_dataset = test_dataset.map(lambda x: _stft_for_test(x, extracted_sources_list))\n",
    "test_dataset = test_dataset.batch(1)"
   ]
  },
  {
   "cell_type": "code",
   "execution_count": null,
   "metadata": {},
   "outputs": [],
   "source": [
    "# To test for batch\n",
    "for mixtures, targets, targets_imaginary in test_dataset.take(3):\n",
    "  start_time = time.time()\n",
    "  print(mixtures.shape)\n",
    "  print(targets.shape)\n",
    "  print(targets_imaginary.shape)\n",
    "  print(\"duration: {} sec\".format(time.time() - start_time))"
   ]
  },
  {
   "cell_type": "markdown",
   "metadata": {},
   "source": [
    "## Build the model"
   ]
  },
  {
   "cell_type": "code",
   "execution_count": null,
   "metadata": {},
   "outputs": [],
   "source": [
    "class ConvBlock(tf.keras.Model):\n",
    "  def __init__(self, num_filters, size):\n",
    "    super(ConvBlock, self).__init__()\n",
    "    self.conv1 = layers.Conv2D(filters=num_filters,\n",
    "                               kernel_size=(size, size),\n",
    "                               padding='same',\n",
    "                               use_bias=False)\n",
    "    self.batchnorm1 = layers.BatchNormalization()\n",
    "    self.conv2 = layers.Conv2D(filters=num_filters,\n",
    "                               kernel_size=(size, size),\n",
    "                               padding='same',\n",
    "                               use_bias=False)\n",
    "    self.batchnorm2 = layers.BatchNormalization()\n",
    "  \n",
    "  def call(self, x, training=True):\n",
    "    x = self.conv1(x)\n",
    "    x = self.batchnorm1(x, training=training)\n",
    "    x = tf.nn.relu(x)\n",
    "    x = self.conv2(x)\n",
    "    x = self.batchnorm2(x, training=training)\n",
    "    x = tf.nn.relu(x)\n",
    "    \n",
    "    return x"
   ]
  },
  {
   "cell_type": "code",
   "execution_count": null,
   "metadata": {},
   "outputs": [],
   "source": [
    "class EncoderBlock(tf.keras.Model):\n",
    "  def __init__(self, num_filters, size):\n",
    "    super(EncoderBlock, self).__init__()\n",
    "    self.conv_block = ConvBlock(num_filters, 3)\n",
    "    \n",
    "  def call(self, x, training=True):\n",
    "    encoder = self.conv_block(x, training=training)\n",
    "    encoder_pool = layers.MaxPooling2D(pool_size=(2, 2),\n",
    "                                       strides=(2, 2))(encoder)\n",
    "  \n",
    "    return encoder_pool, encoder"
   ]
  },
  {
   "cell_type": "code",
   "execution_count": null,
   "metadata": {},
   "outputs": [],
   "source": [
    "class ConvTransposeBlock(tf.keras.Model):\n",
    "  def __init__(self, num_filters, size):\n",
    "    super(ConvTransposeBlock, self).__init__()\n",
    "    self.convT1 = layers.Conv2DTranspose(filters=num_filters,\n",
    "                                         kernel_size=(size, size),\n",
    "                                         padding='same',\n",
    "                                         use_bias=False)\n",
    "    self.batchnorm1 = layers.BatchNormalization()\n",
    "    self.convT2 = layers.Conv2DTranspose(filters=num_filters,\n",
    "                                         kernel_size=(size, size),\n",
    "                                         padding='same',\n",
    "                                         use_bias=False)\n",
    "    self.batchnorm2 = layers.BatchNormalization()\n",
    "  \n",
    "  def call(self, x, training=True):\n",
    "    x = self.convT1(x)\n",
    "    x = self.batchnorm1(x, training=training)\n",
    "    x = tf.nn.relu(x)    \n",
    "    x = self.convT2(x)\n",
    "    x = self.batchnorm2(x, training=training)\n",
    "    x = tf.nn.relu(x)\n",
    "    \n",
    "    return x"
   ]
  },
  {
   "cell_type": "code",
   "execution_count": null,
   "metadata": {},
   "outputs": [],
   "source": [
    "class DecoderBlock(tf.keras.Model):\n",
    "  def __init__(self, num_filters, size):\n",
    "    super(DecoderBlock, self).__init__()\n",
    "    self.convT = layers.Conv2DTranspose(filters=num_filters,\n",
    "                                        kernel_size=(size+2, size+2),\n",
    "                                        strides=(2, 2),\n",
    "                                        padding='same',\n",
    "                                        use_bias=False)\n",
    "    self.batchnorm = layers.BatchNormalization()\n",
    "    self.dropout = layers.Dropout(0.4)\n",
    "    self.convT_block = ConvTransposeBlock(num_filters, size)\n",
    "  \n",
    "  def call(self, input_tensor, concat_tensor, training=True):\n",
    "    # Upsampling\n",
    "    x = self.convT(input_tensor)\n",
    "    x = self.batchnorm(x, training=training)\n",
    "    x = tf.nn.relu(x)\n",
    "    x = self.dropout(x, training=training)\n",
    "    \n",
    "    # concatenate\n",
    "    x = tf.concat([x, concat_tensor], axis=-1)\n",
    "    \n",
    "    # just two consecutive conv_transpose\n",
    "    x = self.convT_block(x, training=training)\n",
    "    \n",
    "    return x"
   ]
  },
  {
   "cell_type": "code",
   "execution_count": null,
   "metadata": {},
   "outputs": [],
   "source": [
    "class SpectrogramChannelsUNet(tf.keras.Model):\n",
    "  def __init__(self):\n",
    "    super(SpectrogramChannelsUNet, self).__init__()\n",
    "    self.down1 = EncoderBlock(32, 3)\n",
    "    self.down2 = EncoderBlock(64, 3)\n",
    "    self.down3 = EncoderBlock(128, 3)\n",
    "    self.down4 = EncoderBlock(256, 3)\n",
    "    self.center = ConvBlock(512, 3)\n",
    "\n",
    "    self.up1 = DecoderBlock(256, 3)\n",
    "    self.up2 = DecoderBlock(128, 3)\n",
    "    self.up3 = DecoderBlock(64, 3)\n",
    "    self.up4 = DecoderBlock(32, 3)\n",
    "\n",
    "    self.last = layers.Conv2D(filters=4,\n",
    "                              kernel_size=(1, 1),\n",
    "                              padding='same')\n",
    "  \n",
    "  def call(self, x, training):\n",
    "    # x shape == (bs, 1024, 256, 1)\n",
    "    x1_pool, x1 = self.down1(x, training=training) # (bs, 512, 128, 32)\n",
    "    x2_pool, x2 = self.down2(x1_pool, training=training) # (bs, 256, 64, 64)\n",
    "    x3_pool, x3 = self.down3(x2_pool, training=training) # (bs, 128, 32, 128)\n",
    "    x4_pool, x4 = self.down4(x3_pool, training=training) # (bs, 64, 16, 256)\n",
    "    x_center = self.center(x4_pool, training=training) # (bs, 64, 16, 512)\n",
    "\n",
    "    x5 = self.up1(x_center, x4, training=training) # (bs, 128, 32, 256)\n",
    "    x6 = self.up2(x5, x3, training=training) # (bs, 256, 64, 128)\n",
    "    x7 = self.up3(x6, x2, training=training) # (bs, 512, 128, 64)\n",
    "    x8 = self.up4(x7, x1, training=training) # (bs, 1024, 256, 32)\n",
    "\n",
    "    x_last = self.last(x8) # (bs, 1024, 256, 5)\n",
    "    x_last = tf.math.sigmoid(x_last)\n",
    "\n",
    "    return x_last"
   ]
  },
  {
   "cell_type": "code",
   "execution_count": null,
   "metadata": {},
   "outputs": [],
   "source": [
    "model = SpectrogramChannelsUNet()"
   ]
  },
  {
   "cell_type": "code",
   "execution_count": null,
   "metadata": {},
   "outputs": [],
   "source": [
    "# To fetch inputs to model in order to set to input shape\n",
    "for mixtures, targets in train_dataset.take(1):\n",
    "  predictions = model(mixtures, training=True)"
   ]
  },
  {
   "cell_type": "code",
   "execution_count": null,
   "metadata": {},
   "outputs": [],
   "source": [
    "model.summary()"
   ]
  },
  {
   "cell_type": "markdown",
   "metadata": {},
   "source": [
    "## Defining loss functions and optimizers"
   ]
  },
  {
   "cell_type": "code",
   "execution_count": null,
   "metadata": {},
   "outputs": [],
   "source": [
    "def singing_voice_loss(y_true, y_pred, alpha=1.0):\n",
    "  # Use the mean_absolute_error\n",
    "  #mae = tf.keras.losses.MeanAbsoluteError()\n",
    "  #loss_vocal = mae(y_true[..., :2], y_pred[..., :2])\n",
    "  #loss_accompaniments = mae(y_true[..., 2:], y_pred[..., 2:])\n",
    "  \n",
    "  loss_vocal = tf.losses.absolute_difference(y_true[..., :2], y_pred[..., :2])\n",
    "  loss_accompaniments = tf.losses.absolute_difference(y_true[..., 2:], y_pred[..., 2:])\n",
    "  \n",
    "  return alpha * loss_vocal + (1. - alpha) * loss_accompaniments"
   ]
  },
  {
   "cell_type": "code",
   "execution_count": null,
   "metadata": {},
   "outputs": [],
   "source": [
    "#optimizer = tf.keras.optimizers.Adam(learning_rate)\n",
    "optimizer = tf.train.AdamOptimizer(learning_rate)"
   ]
  },
  {
   "cell_type": "code",
   "execution_count": null,
   "metadata": {},
   "outputs": [],
   "source": [
    "checkpoint_dir = train_dir\n",
    "#if not tf.io.gfile.exists(checkpoint_dir):\n",
    "#  tf.io.gfile.makedirs(checkpoint_dir)\n",
    "if not tf.gfile.Exists(checkpoint_dir):\n",
    "  tf.gfile.MakeDirs(checkpoint_dir)\n",
    "checkpoint_prefix = os.path.join(checkpoint_dir, \"ckpt\")\n",
    "checkpoint = tf.train.Checkpoint(optimizer=optimizer, model=model)"
   ]
  },
  {
   "cell_type": "code",
   "execution_count": null,
   "metadata": {},
   "outputs": [],
   "source": [
    "def inverse_stft(test_predictions, test_targets_angle):\n",
    "  target_shape = test_predictions.shape\n",
    "  zero_padding = tf.zeros(shape=[target_shape[0], target_shape[1], 1, target_shape[3]])\n",
    "  pred = tf.concat([test_predictions, zero_padding], axis=2)\n",
    "  angle = tf.concat([test_targets_angle, zero_padding], axis=2)\n",
    "  \n",
    "  def _db_to_amp(x):\n",
    "    return tf.math.pow(10.0, x * 0.05)\n",
    "\n",
    "  ref_level_db = 40\n",
    "  magnitude = _db_to_amp(pred + ref_level_db)\n",
    "  \n",
    "  magnitude_complex = tf.dtypes.complex(magnitude, 0.)\n",
    "  angle_complex = tf.dtypes.complex(0., angle)\n",
    "  \n",
    "  stfts = magnitude_complex * angle_complex\n",
    "  \n",
    "  # [batch_size, num_frames, frequency_bin, num_channels]\n",
    "  # -> [batch_size, num_channels, num_frames, frequency_bin]\n",
    "  stfts = tf.transpose(stfts, perm=[0, 3, 1, 2])\n",
    "  \n",
    "  inv_stfts = tf.contrib.signal.inverse_stft(stfts=stfts,\n",
    "                                     frame_length=2048,\n",
    "                                     frame_step=512)#,\n",
    "#                                     fft_length=2048)\n",
    "\n",
    "  #inv_stfts = librosa.core.istft(stft[0,0, :,:].numpy().T, hop_length=512, win_length=2048)\n",
    "  \n",
    "  return inv_stfts"
   ]
  },
  {
   "cell_type": "code",
   "execution_count": null,
   "metadata": {},
   "outputs": [],
   "source": [
    "print('Start Training.')\n",
    "global_step = 1\n",
    "\n",
    "#for epoch in range(max_epochs):\n",
    "for epoch in range(1):\n",
    "  \n",
    "  for mixtures, targets in train_dataset.take(1):\n",
    "    start_time = time.time()\n",
    "    \n",
    "    with tf.GradientTape() as tape:\n",
    "      predictions = model(mixtures, training=True)\n",
    "      loss = singing_voice_loss(targets, predictions)\n",
    "\n",
    "    gradients = tape.gradient(loss, model.variables)\n",
    "    optimizer.apply_gradients(zip(gradients, model.variables))\n",
    "        \n",
    "    epochs = global_step * batch_size / float(N)\n",
    "    duration = time.time() - start_time\n",
    "\n",
    "    if global_step % print_steps == 0:\n",
    "      display.clear_output(wait=True)\n",
    "      examples_per_sec = batch_size / float(duration)\n",
    "      print(\"Epochs: {:.2f} global_step: {} loss: {:.3f} ({:.2f} examples/sec; {:.3f} sec/batch)\".format(\n",
    "                epochs, global_step, loss, examples_per_sec, duration))\n",
    "      for test_mixtures, test_targets, test_targets_angle in test_dataset.take(1):\n",
    "        test_predictions = model(test_mixtures, training=False)\n",
    "        test_wav = inverse_stft(test_predictions, test_targets_angle)\n",
    "    global_step = global_step + 1\n",
    "\n",
    "  # saving (checkpoint) the model every save_epochs\n",
    "  if (epoch + 1) % save_model_epochs == 0:\n",
    "    checkpoint.save(file_prefix=checkpoint_prefix)"
   ]
  },
  {
   "cell_type": "code",
   "execution_count": null,
   "metadata": {},
   "outputs": [],
   "source": [
    "for test_mixtures, test_targets, test_targets_angle in test_dataset.take(1):\n",
    "  test_predictions = model(test_mixtures, training=False)\n",
    "  test_wav = inverse_stft(test_predictions, test_targets_angle)"
   ]
  },
  {
   "cell_type": "code",
   "execution_count": null,
   "metadata": {},
   "outputs": [],
   "source": [
    "display.Audio(test_wav[0, :2, :], rate=44100)"
   ]
  },
  {
   "cell_type": "markdown",
   "metadata": {},
   "source": [
    "## Restore the latest checkpoint and test"
   ]
  },
  {
   "cell_type": "code",
   "execution_count": null,
   "metadata": {},
   "outputs": [],
   "source": [
    "# restoring the latest checkpoint in checkpoint_dir\n",
    "checkpoint.restore(tf.train.latest_checkpoint(checkpoint_dir))"
   ]
  },
  {
   "cell_type": "markdown",
   "metadata": {},
   "source": [
    "## Testing on the entire test dataset"
   ]
  },
  {
   "cell_type": "code",
   "execution_count": null,
   "metadata": {},
   "outputs": [],
   "source": []
  }
 ],
 "metadata": {
  "kernelspec": {
   "display_name": "venv",
   "language": "python",
   "name": "venv"
  },
  "language_info": {
   "codemirror_mode": {
    "name": "ipython",
    "version": 3
   },
   "file_extension": ".py",
   "mimetype": "text/x-python",
   "name": "python",
   "nbconvert_exporter": "python",
   "pygments_lexer": "ipython3",
   "version": "3.6.5"
  }
 },
 "nbformat": 4,
 "nbformat_minor": 2
}

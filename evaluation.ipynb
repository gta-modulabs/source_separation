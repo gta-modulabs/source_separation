{
 "cells": [
  {
   "cell_type": "markdown",
   "metadata": {},
   "source": [
    "## musdb, museval pip을 이용해 설치 필요"
   ]
  },
  {
   "cell_type": "code",
   "execution_count": 69,
   "metadata": {},
   "outputs": [],
   "source": [
    "import musdb\n",
    "import museval\n",
    "import numpy as np\n"
   ]
  },
  {
   "cell_type": "markdown",
   "metadata": {},
   "source": [
    "## 곡 DB 로드"
   ]
  },
  {
   "cell_type": "code",
   "execution_count": 67,
   "metadata": {},
   "outputs": [],
   "source": [
    "mus = musdb.DB(root_dir='/home/scpark/hard/datasets/musdb18')\n",
    "\n",
    "# load the training tracks\n",
    "tracks = mus.load_mus_tracks(subsets=['test'])"
   ]
  },
  {
   "cell_type": "markdown",
   "metadata": {},
   "source": [
    "## 한 곡을 평가하는 방법, museval.eval_mus_track"
   ]
  },
  {
   "cell_type": "code",
   "execution_count": 51,
   "metadata": {},
   "outputs": [
    {
     "name": "stdout",
     "output_type": "stream",
     "text": [
      "vocals              => SDR:nandB, SIR:201.211dB, ISR:206.147dB, SAR:200.985dB, \n",
      "drums               => SDR:nandB, SIR:199.483dB, ISR:216.903dB, SAR:199.423dB, \n",
      "bass                => SDR:nandB, SIR:163.810dB, ISR:181.886dB, SAR:163.716dB, \n",
      "other               => SDR:nandB, SIR:167.656dB, ISR:186.850dB, SAR:167.641dB, \n",
      "\n"
     ]
    },
    {
     "name": "stderr",
     "output_type": "stream",
     "text": [
      "/home/scpark/anaconda3/envs/ai/lib/python3.6/site-packages/museval/__init__.py:105: RuntimeWarning: Mean of empty slice\n",
      "  ) + \"dB, \"\n"
     ]
    }
   ],
   "source": [
    "'''\n",
    "평가하고 싶은 항목을 track.targets[''].audio와 같은 shape으로 만들어 estimates dict에 담는다.\n",
    "2가지 시나리오가 존재\n",
    "1. vocals, drums, bass, other를 넣어 평가\n",
    "2. vocals, accompaniment를 넣어 평가\n",
    "예제는 true 값을 넣음\n",
    "'''\n",
    "estimates = {\n",
    "    'vocals': track.targets['vocals'].audio,\n",
    "    'drums': track.targets['drums'].audio,\n",
    "    'bass': track.targets['bass'].audio,\n",
    "    'other': track.targets['other'].audio,\n",
    "    #'accompaniment': track.targets['accompaniment'].audio\n",
    "}\n",
    "\n",
    "'''\n",
    "평가하고 score 출력 (꽤 시간 오래 걸림)\n",
    "output_dir 디렉토리에 한 곡 내에서 구간별로 평가 점수가 저장 됨.\n",
    "리턴 하는 scores는 구간별 점수들의 mode값\n",
    "'''\n",
    "scores = museval.eval_mus_track(track, estimates, output_dir=None)\n",
    "print(scores)\n"
   ]
  },
  {
   "cell_type": "markdown",
   "metadata": {},
   "source": [
    "## 짧은 구간을 평가하는 방법, museval.evaluate  "
   ]
  },
  {
   "cell_type": "code",
   "execution_count": 66,
   "metadata": {},
   "outputs": [
    {
     "name": "stdout",
     "output_type": "stream",
     "text": [
      "SDR\n",
      "[[inf inf inf]\n",
      " [inf inf inf]\n",
      " [inf inf inf]\n",
      " [inf inf inf]]\n",
      "ISR\n",
      "[[204.94067199 206.19728497 203.82422185]\n",
      " [239.10249602 238.04221711 240.16363901]\n",
      " [173.80268686 212.02936332 212.73441786]\n",
      " [209.29521613 202.85421671 203.5850656 ]]\n",
      "SIR\n",
      "[[200.53572868 201.73617937 198.81060343]\n",
      " [196.88387982 194.6622243  200.86987338]\n",
      " [133.86242346 170.65393665 175.35296853]\n",
      " [193.83825493 182.74350204 182.34079141]]\n",
      "SAR\n",
      "[[200.93216635 202.1282304  199.15195735]\n",
      " [196.88184177 194.66086032 200.86843079]\n",
      " [133.86287555 170.65438666 175.35463944]\n",
      " [193.79154905 182.7676587  182.37257482]]\n"
     ]
    }
   ],
   "source": [
    "# 예를 들기 위해 원본에서 앞에서부터 3초씩 잘라서 넣는다.\n",
    "slices = slice(0, 3 * 44100)\n",
    "\n",
    "references = [track.targets['vocals'].audio[slices], \n",
    "            track.targets['drums'].audio[slices],\n",
    "            track.targets['bass'].audio[slices],\n",
    "            track.targets['other'].audio[slices]]\n",
    "\n",
    "# shape=(nsources, nsamples, nchannels)\n",
    "references = np.stack(references)\n",
    "\n",
    "estimates = [track.targets['vocals'].audio[slices], \n",
    "            track.targets['drums'].audio[slices],\n",
    "            track.targets['bass'].audio[slices],\n",
    "            track.targets['other'].audio[slices]]\n",
    "\n",
    "# references와 같은 shape을 가져야 한다.\n",
    "# shape=(nsources, nsamples, nchannels)\n",
    "estimates = np.stack(estimates)\n",
    "\n",
    "# 1초씩 잘라서 비교하면서 평가\n",
    "# 각각 (nsources, nframes) shape을 갖는다. \n",
    "# vocals, drums, bass, other 3초짜리를 넣고, win=1*44100, hop=1*44100로 두면 shape이 (4, 3)으로 나온다.\n",
    "SDR, ISR, SIR, SAR = museval.evaluate(references, estimates,\n",
    "                                     win=1*44100, hop=1*44100)\n",
    "\n",
    "print(\"SDR\")\n",
    "print(SDR)\n",
    "\n",
    "print(\"ISR\")\n",
    "print(ISR)\n",
    "\n",
    "print(\"SIR\")\n",
    "print(SIR)\n",
    "\n",
    "print(\"SAR\")\n",
    "print(SAR)"
   ]
  }
 ],
 "metadata": {
  "kernelspec": {
   "display_name": "Python 3",
   "language": "python",
   "name": "python3"
  },
  "language_info": {
   "codemirror_mode": {
    "name": "ipython",
    "version": 3
   },
   "file_extension": ".py",
   "mimetype": "text/x-python",
   "name": "python",
   "nbconvert_exporter": "python",
   "pygments_lexer": "ipython3",
   "version": "3.6.7"
  }
 },
 "nbformat": 4,
 "nbformat_minor": 2
}
